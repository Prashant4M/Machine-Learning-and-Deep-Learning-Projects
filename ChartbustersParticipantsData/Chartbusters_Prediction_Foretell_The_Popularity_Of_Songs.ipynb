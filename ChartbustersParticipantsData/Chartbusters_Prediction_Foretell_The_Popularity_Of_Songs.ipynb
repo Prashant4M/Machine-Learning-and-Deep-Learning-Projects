{
  "nbformat": 4,
  "nbformat_minor": 0,
  "metadata": {
    "colab": {
      "name": "Chartbusters Prediction : Foretell The Popularity Of Songs.ipynb",
      "provenance": [],
      "toc_visible": true,
      "machine_shape": "hm"
    },
    "kernelspec": {
      "name": "python3",
      "display_name": "Python 3"
    },
    "accelerator": "GPU"
  },
  "cells": [
    {
      "cell_type": "code",
      "metadata": {
        "id": "UD3QCfW1UJQJ",
        "colab_type": "code",
        "colab": {}
      },
      "source": [
        "import numpy as np\n",
        "import seaborn as sns\n",
        "import pandas as pd\n",
        "from sklearn.feature_selection import SelectKBest\n",
        "from sklearn.preprocessing import LabelEncoder\n",
        "from sklearn.ensemble import RandomForestRegressor\n",
        "from sklearn.ensemble import AdaBoostRegressor,GradientBoostingRegressor,BaggingRegressor\n",
        "from sklearn.tree import DecisionTreeRegressor\n",
        "from sklearn.metrics import r2_score,mean_absolute_error,mean_squared_error\n",
        "from sklearn.model_selection import cross_val_score\n",
        "import matplotlib.pyplot as plt\n",
        "from sklearn.feature_selection import chi2\n",
        "import datetime\n",
        "from sklearn.model_selection import GridSearchCV\n",
        "from sklearn.neural_network import MLPRegressor"
      ],
      "execution_count": 0,
      "outputs": []
    },
    {
      "cell_type": "code",
      "metadata": {
        "id": "lPWA86agSGyQ",
        "colab_type": "code",
        "colab": {}
      },
      "source": [
        "from sklearn.model_selection import train_test_split"
      ],
      "execution_count": 0,
      "outputs": []
    },
    {
      "cell_type": "code",
      "metadata": {
        "id": "IlnbDlhPdNtE",
        "colab_type": "code",
        "outputId": "2cc3c2aa-f68c-48b0-cb3a-03b01a416349",
        "colab": {
          "base_uri": "https://localhost:8080/",
          "height": 825
        }
      },
      "source": [
        "data = pd.read_csv('Data_Train.csv')\n",
        "data"
      ],
      "execution_count": 0,
      "outputs": [
        {
          "output_type": "execute_result",
          "data": {
            "text/html": [
              "<div>\n",
              "<style scoped>\n",
              "    .dataframe tbody tr th:only-of-type {\n",
              "        vertical-align: middle;\n",
              "    }\n",
              "\n",
              "    .dataframe tbody tr th {\n",
              "        vertical-align: top;\n",
              "    }\n",
              "\n",
              "    .dataframe thead th {\n",
              "        text-align: right;\n",
              "    }\n",
              "</style>\n",
              "<table border=\"1\" class=\"dataframe\">\n",
              "  <thead>\n",
              "    <tr style=\"text-align: right;\">\n",
              "      <th></th>\n",
              "      <th>Unique_ID</th>\n",
              "      <th>Name</th>\n",
              "      <th>Genre</th>\n",
              "      <th>Country</th>\n",
              "      <th>Song_Name</th>\n",
              "      <th>Timestamp</th>\n",
              "      <th>Views</th>\n",
              "      <th>Comments</th>\n",
              "      <th>Likes</th>\n",
              "      <th>Popularity</th>\n",
              "      <th>Followers</th>\n",
              "    </tr>\n",
              "  </thead>\n",
              "  <tbody>\n",
              "    <tr>\n",
              "      <th>0</th>\n",
              "      <td>413890</td>\n",
              "      <td>Hardstyle</td>\n",
              "      <td>danceedm</td>\n",
              "      <td>AU</td>\n",
              "      <td>N-Vitral presents BOMBSQUAD - Poison Spitter (...</td>\n",
              "      <td>2018-03-30 15:24:45.000000</td>\n",
              "      <td>14017</td>\n",
              "      <td>4</td>\n",
              "      <td>499</td>\n",
              "      <td>97</td>\n",
              "      <td>119563</td>\n",
              "    </tr>\n",
              "    <tr>\n",
              "      <th>1</th>\n",
              "      <td>249453</td>\n",
              "      <td>Dj Aladdin</td>\n",
              "      <td>danceedm</td>\n",
              "      <td>AU</td>\n",
              "      <td>Dj Aladdin - Old School Hip Hop Quick Mix</td>\n",
              "      <td>2016-06-20 05:58:52.000000</td>\n",
              "      <td>1918</td>\n",
              "      <td>17</td>\n",
              "      <td>49</td>\n",
              "      <td>17</td>\n",
              "      <td>2141</td>\n",
              "    </tr>\n",
              "    <tr>\n",
              "      <th>2</th>\n",
              "      <td>681116</td>\n",
              "      <td>Maxximize On Air</td>\n",
              "      <td>danceedm</td>\n",
              "      <td>AU</td>\n",
              "      <td>Maxximize On Air - Mixed by Blasterjaxx - Epis...</td>\n",
              "      <td>2015-05-08 17:45:59.000000</td>\n",
              "      <td>9668</td>\n",
              "      <td>11</td>\n",
              "      <td>312</td>\n",
              "      <td>91</td>\n",
              "      <td>22248</td>\n",
              "    </tr>\n",
              "    <tr>\n",
              "      <th>3</th>\n",
              "      <td>387253</td>\n",
              "      <td>GR6 EXPLODE</td>\n",
              "      <td>rbsoul</td>\n",
              "      <td>AU</td>\n",
              "      <td>MC Yago - Tenho Compromisso (DJ R7)</td>\n",
              "      <td>2017-06-08 23:50:03.000000</td>\n",
              "      <td>113036</td>\n",
              "      <td>2</td>\n",
              "      <td>2,400</td>\n",
              "      <td>76</td>\n",
              "      <td>393655</td>\n",
              "    </tr>\n",
              "    <tr>\n",
              "      <th>4</th>\n",
              "      <td>1428029</td>\n",
              "      <td>Tritonal</td>\n",
              "      <td>danceedm</td>\n",
              "      <td>AU</td>\n",
              "      <td>Escape (feat. Steph Jones)</td>\n",
              "      <td>2016-09-17 20:50:19.000000</td>\n",
              "      <td>110024</td>\n",
              "      <td>81</td>\n",
              "      <td>3,031</td>\n",
              "      <td>699</td>\n",
              "      <td>201030</td>\n",
              "    </tr>\n",
              "    <tr>\n",
              "      <th>...</th>\n",
              "      <td>...</td>\n",
              "      <td>...</td>\n",
              "      <td>...</td>\n",
              "      <td>...</td>\n",
              "      <td>...</td>\n",
              "      <td>...</td>\n",
              "      <td>...</td>\n",
              "      <td>...</td>\n",
              "      <td>...</td>\n",
              "      <td>...</td>\n",
              "      <td>...</td>\n",
              "    </tr>\n",
              "    <tr>\n",
              "      <th>78453</th>\n",
              "      <td>1144131</td>\n",
              "      <td>Resident Advisor</td>\n",
              "      <td>ambient</td>\n",
              "      <td>AU</td>\n",
              "      <td>RA.505 Josey Rebelle</td>\n",
              "      <td>2016-02-08 09:11:33.000000</td>\n",
              "      <td>12221</td>\n",
              "      <td>19</td>\n",
              "      <td>489</td>\n",
              "      <td>47</td>\n",
              "      <td>143726</td>\n",
              "    </tr>\n",
              "    <tr>\n",
              "      <th>78454</th>\n",
              "      <td>1415261</td>\n",
              "      <td>Trap Sounds</td>\n",
              "      <td>trap</td>\n",
              "      <td>AU</td>\n",
              "      <td>Drama We Cause - Lurtz [Exclusive]</td>\n",
              "      <td>2016-03-02 01:24:39.000000</td>\n",
              "      <td>8265</td>\n",
              "      <td>4</td>\n",
              "      <td>292</td>\n",
              "      <td>100</td>\n",
              "      <td>211419</td>\n",
              "    </tr>\n",
              "    <tr>\n",
              "      <th>78455</th>\n",
              "      <td>705157</td>\n",
              "      <td>Mixmag</td>\n",
              "      <td>electronic</td>\n",
              "      <td>AU</td>\n",
              "      <td>Premiere: ELLLL 'SKITTLES'</td>\n",
              "      <td>2019-02-11 13:15:05.000000</td>\n",
              "      <td>3621</td>\n",
              "      <td>1</td>\n",
              "      <td>157</td>\n",
              "      <td>31</td>\n",
              "      <td>1403057</td>\n",
              "    </tr>\n",
              "    <tr>\n",
              "      <th>78456</th>\n",
              "      <td>175337</td>\n",
              "      <td>DHA AM (Deep House London)</td>\n",
              "      <td>electronic</td>\n",
              "      <td>AU</td>\n",
              "      <td>Night Vision - DHL Mix #124</td>\n",
              "      <td>2017-01-18 10:10:12.000000</td>\n",
              "      <td>8896</td>\n",
              "      <td>24</td>\n",
              "      <td>371</td>\n",
              "      <td>89</td>\n",
              "      <td>143743</td>\n",
              "    </tr>\n",
              "    <tr>\n",
              "      <th>78457</th>\n",
              "      <td>501778</td>\n",
              "      <td>Jon Z ✅</td>\n",
              "      <td>all-music</td>\n",
              "      <td>AU</td>\n",
              "      <td>Energy Freestyle</td>\n",
              "      <td>2015-04-11 22:32:05.000000</td>\n",
              "      <td>102487</td>\n",
              "      <td>4</td>\n",
              "      <td>1,829</td>\n",
              "      <td>71</td>\n",
              "      <td>89084</td>\n",
              "    </tr>\n",
              "  </tbody>\n",
              "</table>\n",
              "<p>78458 rows × 11 columns</p>\n",
              "</div>"
            ],
            "text/plain": [
              "       Unique_ID                        Name  ... Popularity Followers\n",
              "0         413890                   Hardstyle  ...         97    119563\n",
              "1         249453                  Dj Aladdin  ...         17      2141\n",
              "2         681116            Maxximize On Air  ...         91     22248\n",
              "3         387253                 GR6 EXPLODE  ...         76    393655\n",
              "4        1428029                    Tritonal  ...        699    201030\n",
              "...          ...                         ...  ...        ...       ...\n",
              "78453    1144131            Resident Advisor  ...         47    143726\n",
              "78454    1415261                 Trap Sounds  ...        100    211419\n",
              "78455     705157                      Mixmag  ...         31   1403057\n",
              "78456     175337  DHA AM (Deep House London)  ...         89    143743\n",
              "78457     501778                     Jon Z ✅  ...         71     89084\n",
              "\n",
              "[78458 rows x 11 columns]"
            ]
          },
          "metadata": {
            "tags": []
          },
          "execution_count": 3
        }
      ]
    },
    {
      "cell_type": "code",
      "metadata": {
        "id": "K1cexTuCW7jx",
        "colab_type": "code",
        "colab": {}
      },
      "source": [
        "data['ReleasingYear'] = pd.DatetimeIndex(data['Timestamp']).year"
      ],
      "execution_count": 0,
      "outputs": []
    },
    {
      "cell_type": "code",
      "metadata": {
        "id": "ipYiQBfxYWXY",
        "colab_type": "code",
        "outputId": "e94c25a7-6951-4f6a-a1dd-7aaccbe47386",
        "colab": {
          "base_uri": "https://localhost:8080/",
          "height": 825
        }
      },
      "source": [
        "data"
      ],
      "execution_count": 0,
      "outputs": [
        {
          "output_type": "execute_result",
          "data": {
            "text/html": [
              "<div>\n",
              "<style scoped>\n",
              "    .dataframe tbody tr th:only-of-type {\n",
              "        vertical-align: middle;\n",
              "    }\n",
              "\n",
              "    .dataframe tbody tr th {\n",
              "        vertical-align: top;\n",
              "    }\n",
              "\n",
              "    .dataframe thead th {\n",
              "        text-align: right;\n",
              "    }\n",
              "</style>\n",
              "<table border=\"1\" class=\"dataframe\">\n",
              "  <thead>\n",
              "    <tr style=\"text-align: right;\">\n",
              "      <th></th>\n",
              "      <th>Unique_ID</th>\n",
              "      <th>Name</th>\n",
              "      <th>Genre</th>\n",
              "      <th>Country</th>\n",
              "      <th>Song_Name</th>\n",
              "      <th>Timestamp</th>\n",
              "      <th>Views</th>\n",
              "      <th>Comments</th>\n",
              "      <th>Likes</th>\n",
              "      <th>Popularity</th>\n",
              "      <th>Followers</th>\n",
              "      <th>ReleasingYear</th>\n",
              "    </tr>\n",
              "  </thead>\n",
              "  <tbody>\n",
              "    <tr>\n",
              "      <th>0</th>\n",
              "      <td>413890</td>\n",
              "      <td>Hardstyle</td>\n",
              "      <td>danceedm</td>\n",
              "      <td>AU</td>\n",
              "      <td>N-Vitral presents BOMBSQUAD - Poison Spitter (...</td>\n",
              "      <td>2018-03-30 15:24:45.000000</td>\n",
              "      <td>14017</td>\n",
              "      <td>4</td>\n",
              "      <td>499</td>\n",
              "      <td>97</td>\n",
              "      <td>119563</td>\n",
              "      <td>2018</td>\n",
              "    </tr>\n",
              "    <tr>\n",
              "      <th>1</th>\n",
              "      <td>249453</td>\n",
              "      <td>Dj Aladdin</td>\n",
              "      <td>danceedm</td>\n",
              "      <td>AU</td>\n",
              "      <td>Dj Aladdin - Old School Hip Hop Quick Mix</td>\n",
              "      <td>2016-06-20 05:58:52.000000</td>\n",
              "      <td>1918</td>\n",
              "      <td>17</td>\n",
              "      <td>49</td>\n",
              "      <td>17</td>\n",
              "      <td>2141</td>\n",
              "      <td>2016</td>\n",
              "    </tr>\n",
              "    <tr>\n",
              "      <th>2</th>\n",
              "      <td>681116</td>\n",
              "      <td>Maxximize On Air</td>\n",
              "      <td>danceedm</td>\n",
              "      <td>AU</td>\n",
              "      <td>Maxximize On Air - Mixed by Blasterjaxx - Epis...</td>\n",
              "      <td>2015-05-08 17:45:59.000000</td>\n",
              "      <td>9668</td>\n",
              "      <td>11</td>\n",
              "      <td>312</td>\n",
              "      <td>91</td>\n",
              "      <td>22248</td>\n",
              "      <td>2015</td>\n",
              "    </tr>\n",
              "    <tr>\n",
              "      <th>3</th>\n",
              "      <td>387253</td>\n",
              "      <td>GR6 EXPLODE</td>\n",
              "      <td>rbsoul</td>\n",
              "      <td>AU</td>\n",
              "      <td>MC Yago - Tenho Compromisso (DJ R7)</td>\n",
              "      <td>2017-06-08 23:50:03.000000</td>\n",
              "      <td>113036</td>\n",
              "      <td>2</td>\n",
              "      <td>2,400</td>\n",
              "      <td>76</td>\n",
              "      <td>393655</td>\n",
              "      <td>2017</td>\n",
              "    </tr>\n",
              "    <tr>\n",
              "      <th>4</th>\n",
              "      <td>1428029</td>\n",
              "      <td>Tritonal</td>\n",
              "      <td>danceedm</td>\n",
              "      <td>AU</td>\n",
              "      <td>Escape (feat. Steph Jones)</td>\n",
              "      <td>2016-09-17 20:50:19.000000</td>\n",
              "      <td>110024</td>\n",
              "      <td>81</td>\n",
              "      <td>3,031</td>\n",
              "      <td>699</td>\n",
              "      <td>201030</td>\n",
              "      <td>2016</td>\n",
              "    </tr>\n",
              "    <tr>\n",
              "      <th>...</th>\n",
              "      <td>...</td>\n",
              "      <td>...</td>\n",
              "      <td>...</td>\n",
              "      <td>...</td>\n",
              "      <td>...</td>\n",
              "      <td>...</td>\n",
              "      <td>...</td>\n",
              "      <td>...</td>\n",
              "      <td>...</td>\n",
              "      <td>...</td>\n",
              "      <td>...</td>\n",
              "      <td>...</td>\n",
              "    </tr>\n",
              "    <tr>\n",
              "      <th>78453</th>\n",
              "      <td>1144131</td>\n",
              "      <td>Resident Advisor</td>\n",
              "      <td>ambient</td>\n",
              "      <td>AU</td>\n",
              "      <td>RA.505 Josey Rebelle</td>\n",
              "      <td>2016-02-08 09:11:33.000000</td>\n",
              "      <td>12221</td>\n",
              "      <td>19</td>\n",
              "      <td>489</td>\n",
              "      <td>47</td>\n",
              "      <td>143726</td>\n",
              "      <td>2016</td>\n",
              "    </tr>\n",
              "    <tr>\n",
              "      <th>78454</th>\n",
              "      <td>1415261</td>\n",
              "      <td>Trap Sounds</td>\n",
              "      <td>trap</td>\n",
              "      <td>AU</td>\n",
              "      <td>Drama We Cause - Lurtz [Exclusive]</td>\n",
              "      <td>2016-03-02 01:24:39.000000</td>\n",
              "      <td>8265</td>\n",
              "      <td>4</td>\n",
              "      <td>292</td>\n",
              "      <td>100</td>\n",
              "      <td>211419</td>\n",
              "      <td>2016</td>\n",
              "    </tr>\n",
              "    <tr>\n",
              "      <th>78455</th>\n",
              "      <td>705157</td>\n",
              "      <td>Mixmag</td>\n",
              "      <td>electronic</td>\n",
              "      <td>AU</td>\n",
              "      <td>Premiere: ELLLL 'SKITTLES'</td>\n",
              "      <td>2019-02-11 13:15:05.000000</td>\n",
              "      <td>3621</td>\n",
              "      <td>1</td>\n",
              "      <td>157</td>\n",
              "      <td>31</td>\n",
              "      <td>1403057</td>\n",
              "      <td>2019</td>\n",
              "    </tr>\n",
              "    <tr>\n",
              "      <th>78456</th>\n",
              "      <td>175337</td>\n",
              "      <td>DHA AM (Deep House London)</td>\n",
              "      <td>electronic</td>\n",
              "      <td>AU</td>\n",
              "      <td>Night Vision - DHL Mix #124</td>\n",
              "      <td>2017-01-18 10:10:12.000000</td>\n",
              "      <td>8896</td>\n",
              "      <td>24</td>\n",
              "      <td>371</td>\n",
              "      <td>89</td>\n",
              "      <td>143743</td>\n",
              "      <td>2017</td>\n",
              "    </tr>\n",
              "    <tr>\n",
              "      <th>78457</th>\n",
              "      <td>501778</td>\n",
              "      <td>Jon Z ✅</td>\n",
              "      <td>all-music</td>\n",
              "      <td>AU</td>\n",
              "      <td>Energy Freestyle</td>\n",
              "      <td>2015-04-11 22:32:05.000000</td>\n",
              "      <td>102487</td>\n",
              "      <td>4</td>\n",
              "      <td>1,829</td>\n",
              "      <td>71</td>\n",
              "      <td>89084</td>\n",
              "      <td>2015</td>\n",
              "    </tr>\n",
              "  </tbody>\n",
              "</table>\n",
              "<p>78458 rows × 12 columns</p>\n",
              "</div>"
            ],
            "text/plain": [
              "       Unique_ID                        Name  ... Followers ReleasingYear\n",
              "0         413890                   Hardstyle  ...    119563          2018\n",
              "1         249453                  Dj Aladdin  ...      2141          2016\n",
              "2         681116            Maxximize On Air  ...     22248          2015\n",
              "3         387253                 GR6 EXPLODE  ...    393655          2017\n",
              "4        1428029                    Tritonal  ...    201030          2016\n",
              "...          ...                         ...  ...       ...           ...\n",
              "78453    1144131            Resident Advisor  ...    143726          2016\n",
              "78454    1415261                 Trap Sounds  ...    211419          2016\n",
              "78455     705157                      Mixmag  ...   1403057          2019\n",
              "78456     175337  DHA AM (Deep House London)  ...    143743          2017\n",
              "78457     501778                     Jon Z ✅  ...     89084          2015\n",
              "\n",
              "[78458 rows x 12 columns]"
            ]
          },
          "metadata": {
            "tags": []
          },
          "execution_count": 6
        }
      ]
    },
    {
      "cell_type": "code",
      "metadata": {
        "id": "REgzBkR4ROt0",
        "colab_type": "code",
        "outputId": "4962738c-9f42-4457-bf89-eceaa82bf5fd",
        "colab": {
          "base_uri": "https://localhost:8080/",
          "height": 435
        }
      },
      "source": [
        "data.groupby('Genre')['Unique_ID'].count()"
      ],
      "execution_count": 0,
      "outputs": [
        {
          "output_type": "execute_result",
          "data": {
            "text/plain": [
              "Genre\n",
              "all-music               10277\n",
              "alternativerock           156\n",
              "ambient                   847\n",
              "classical                 767\n",
              "country                   336\n",
              "danceedm                22633\n",
              "deephouse                2423\n",
              "disco                     374\n",
              "drumbass                  671\n",
              "dubstep                  1100\n",
              "electronic              18331\n",
              "folksingersongwriter       39\n",
              "hiphoprap                 100\n",
              "indie                      11\n",
              "latin                    4562\n",
              "metal                     523\n",
              "pop                      1787\n",
              "rbsoul                   5411\n",
              "reggaeton                  55\n",
              "rock                     4000\n",
              "trap                     4055\n",
              "Name: Unique_ID, dtype: int64"
            ]
          },
          "metadata": {
            "tags": []
          },
          "execution_count": 38
        }
      ]
    },
    {
      "cell_type": "code",
      "metadata": {
        "id": "xR0Oy8emKcbn",
        "colab_type": "code",
        "outputId": "5fc2a7e5-1962-43c5-d327-d2a544587727",
        "colab": {
          "base_uri": "https://localhost:8080/",
          "height": 625
        }
      },
      "source": [
        "plt.figure(figsize=(10,10))\n",
        "sns.countplot(y='Genre',data=data)"
      ],
      "execution_count": 0,
      "outputs": [
        {
          "output_type": "execute_result",
          "data": {
            "text/plain": [
              "<matplotlib.axes._subplots.AxesSubplot at 0x7f47128f3d68>"
            ]
          },
          "metadata": {
            "tags": []
          },
          "execution_count": 35
        },
        {
          "output_type": "display_data",
          "data": {
            "image/png": "[encoded data removed]",
            "text/plain": [
              "<Figure size 720x720 with 1 Axes>"
            ]
          },
          "metadata": {
            "tags": []
          }
        }
      ]
    },
    {
      "cell_type": "code",
      "metadata": {
        "id": "EIdGwz1kTNcC",
        "colab_type": "code",
        "outputId": "d0b3774f-bc3c-41a3-c969-33982823a7cf",
        "colab": {
          "base_uri": "https://localhost:8080/",
          "height": 617
        }
      },
      "source": [
        "ls = data.groupby('ReleasingYear')['Unique_ID'].count()"
      ],
      "execution_count": 0,
      "outputs": [
        {
          "output_type": "execute_result",
          "data": {
            "text/plain": [
              "ReleasingYear\n",
              "1973        5\n",
              "1979        7\n",
              "1986        3\n",
              "1990        1\n",
              "1991      154\n",
              "1992       32\n",
              "1994       26\n",
              "1995        8\n",
              "1996       19\n",
              "1997        5\n",
              "1999       30\n",
              "2000       13\n",
              "2001       25\n",
              "2002       60\n",
              "2003       76\n",
              "2004      152\n",
              "2005      127\n",
              "2006       22\n",
              "2007      140\n",
              "2008      157\n",
              "2009      488\n",
              "2010      583\n",
              "2011     1456\n",
              "2012     2791\n",
              "2013     3970\n",
              "2014     6636\n",
              "2015     9446\n",
              "2016    12166\n",
              "2017    14344\n",
              "2018    20944\n",
              "2019     4572\n",
              "Name: Unique_ID, dtype: int64"
            ]
          },
          "metadata": {
            "tags": []
          },
          "execution_count": 43
        }
      ]
    },
    {
      "cell_type": "code",
      "metadata": {
        "id": "K_bIRwn3UzaZ",
        "colab_type": "code",
        "outputId": "abb8b54e-5259-4dbe-d1ec-b3d08f1434b0",
        "colab": {
          "base_uri": "https://localhost:8080/",
          "height": 625
        }
      },
      "source": [
        "plt.figure(figsize=(10,10))\n",
        "sns.countplot(y='ReleasingYear',data=data)"
      ],
      "execution_count": 0,
      "outputs": [
        {
          "output_type": "execute_result",
          "data": {
            "text/plain": [
              "<matplotlib.axes._subplots.AxesSubplot at 0x7f47127cba58>"
            ]
          },
          "metadata": {
            "tags": []
          },
          "execution_count": 44
        },
        {
          "output_type": "display_data",
          "data": {
            "image/png": "[encoded data removed]",
            "text/plain": [
              "<Figure size 720x720 with 1 Axes>"
            ]
          },
          "metadata": {
            "tags": []
          }
        }
      ]
    },
    {
      "cell_type": "code",
      "metadata": {
        "id": "OX7VJwN5dkf6",
        "colab_type": "code",
        "outputId": "a2fb5e98-eb04-4d73-847a-d80e7040b1dc",
        "colab": {
          "base_uri": "https://localhost:8080/",
          "height": 308
        }
      },
      "source": [
        "data.info()"
      ],
      "execution_count": 0,
      "outputs": [
        {
          "output_type": "stream",
          "text": [
            "<class 'pandas.core.frame.DataFrame'>\n",
            "RangeIndex: 78458 entries, 0 to 78457\n",
            "Data columns (total 11 columns):\n",
            "Unique_ID     78458 non-null int64\n",
            "Name          78458 non-null object\n",
            "Genre         78458 non-null object\n",
            "Country       78458 non-null object\n",
            "Song_Name     78457 non-null object\n",
            "Timestamp     78458 non-null object\n",
            "Views         78458 non-null int64\n",
            "Comments      78458 non-null int64\n",
            "Likes         78458 non-null object\n",
            "Popularity    78458 non-null object\n",
            "Followers     78458 non-null int64\n",
            "dtypes: int64(4), object(7)\n",
            "memory usage: 6.6+ MB\n"
          ],
          "name": "stdout"
        }
      ]
    },
    {
      "cell_type": "code",
      "metadata": {
        "id": "A2BZro8yklSP",
        "colab_type": "code",
        "outputId": "3605bcbf-e20c-4c8e-f0ea-72f62af3f906",
        "colab": {
          "base_uri": "https://localhost:8080/",
          "height": 72
        }
      },
      "source": [
        "print(\"Unique Singers:\"+str(data['Name'].nunique()))\n",
        "print(\"Unique Generes:\"+str(data['Genre'].nunique()))\n",
        "print(\"Unique Countries:\"+str(data['Country'].nunique()))"
      ],
      "execution_count": 0,
      "outputs": [
        {
          "output_type": "stream",
          "text": [
            "Unique Singers:1209\n",
            "Unique Generes:21\n",
            "Unique Countries:1\n"
          ],
          "name": "stdout"
        }
      ]
    },
    {
      "cell_type": "code",
      "metadata": {
        "id": "txQ5WVy_cd2S",
        "colab_type": "code",
        "colab": {}
      },
      "source": [
        "data.fillna('We Rise',inplace=True)"
      ],
      "execution_count": 0,
      "outputs": []
    },
    {
      "cell_type": "code",
      "metadata": {
        "id": "CmUFcmjA4_P5",
        "colab_type": "code",
        "outputId": "57ad7636-de00-4eb6-8826-06baf6f10bb4",
        "colab": {
          "base_uri": "https://localhost:8080/",
          "height": 235
        }
      },
      "source": [
        "data.isnull().any()"
      ],
      "execution_count": 0,
      "outputs": [
        {
          "output_type": "execute_result",
          "data": {
            "text/plain": [
              "Unique_ID     False\n",
              "Name          False\n",
              "Genre         False\n",
              "Country       False\n",
              "Song_Name     False\n",
              "Timestamp     False\n",
              "Views         False\n",
              "Comments      False\n",
              "Likes         False\n",
              "Popularity    False\n",
              "Followers     False\n",
              "dtype: bool"
            ]
          },
          "metadata": {
            "tags": []
          },
          "execution_count": 7
        }
      ]
    },
    {
      "cell_type": "code",
      "metadata": {
        "id": "uuJozxcuLTwa",
        "colab_type": "code",
        "colab": {}
      },
      "source": [
        "le = LabelEncoder()"
      ],
      "execution_count": 0,
      "outputs": []
    },
    {
      "cell_type": "code",
      "metadata": {
        "id": "01nr3xpwftQC",
        "colab_type": "code",
        "colab": {}
      },
      "source": [
        "def ChangeCatToNum(data):\n",
        "  cat_features = ['Name','Genre']\n",
        "  data.reset_index(drop=True)\n",
        "  data[cat_features] = data[cat_features].apply(le.fit_transform)\n",
        "  currDate = datetime.datetime.now()\n",
        "  datetimeFormat = '%Y-%m-%d %H:%M:%S.%f'\n",
        "  data = data.assign(DaysAfterRelease=np.nan)\n",
        "  for i in range(len(data)):\n",
        "    diff= (datetime.datetime.strptime(str(currDate),datetimeFormat)-datetime.datetime.strptime(str(data.iloc[i,5]),datetimeFormat))\n",
        "    data.iloc[i,11] = int(diff.days)\n",
        "  data[\"Popularity\"] = data[\"Popularity\"].str.replace(\",\",\"\")\n",
        "  data['Popularity']=data['Popularity'].replace({'K': '*1e3', 'M': '*1e6'}, regex=True).map(pd.eval).astype(int)\n",
        "  data[\"Likes\"] = data[\"Likes\"].str.replace(\",\",\"\")\n",
        "  data['Likes']=data['Likes'].replace({'K': '*1e3', 'M': '*1e6'}, regex=True).map(pd.eval).astype(int)\n",
        "  data.drop(['Country','Song_Name','Timestamp'],axis=1,inplace=True)\n",
        "  return data"
      ],
      "execution_count": 0,
      "outputs": []
    },
    {
      "cell_type": "code",
      "metadata": {
        "id": "5oO-UE1GMeEj",
        "colab_type": "code",
        "colab": {}
      },
      "source": [
        "Converted_training_data = ChangeCatToNum(data)"
      ],
      "execution_count": 0,
      "outputs": []
    },
    {
      "cell_type": "code",
      "metadata": {
        "id": "SUm2PVXfMlhe",
        "colab_type": "code",
        "outputId": "af860119-8e53-4713-a003-c46bdc8adf70",
        "colab": {
          "base_uri": "https://localhost:8080/",
          "height": 272
        }
      },
      "source": [
        "Converted_training_data.info()"
      ],
      "execution_count": 0,
      "outputs": [
        {
          "output_type": "stream",
          "text": [
            "<class 'pandas.core.frame.DataFrame'>\n",
            "RangeIndex: 78458 entries, 0 to 78457\n",
            "Data columns (total 9 columns):\n",
            "Unique_ID           78458 non-null int64\n",
            "Name                78458 non-null int64\n",
            "Genre               78458 non-null int64\n",
            "Views               78458 non-null int64\n",
            "Comments            78458 non-null int64\n",
            "Likes               78458 non-null int64\n",
            "Popularity          78458 non-null int64\n",
            "Followers           78458 non-null int64\n",
            "DaysAfterRelease    78458 non-null float64\n",
            "dtypes: float64(1), int64(8)\n",
            "memory usage: 5.4 MB\n"
          ],
          "name": "stdout"
        }
      ]
    },
    {
      "cell_type": "code",
      "metadata": {
        "id": "jmQPXZLCR13p",
        "colab_type": "code",
        "outputId": "6cae1589-09e5-4bc0-f4d4-926e3c4a4646",
        "colab": {
          "base_uri": "https://localhost:8080/",
          "height": 693
        }
      },
      "source": [
        "plt.subplots(figsize=(10,10))\n",
        "sns.heatmap(Converted_training_data.corr(),annot=True,cmap='coolwarm',fmt='.2g')"
      ],
      "execution_count": 0,
      "outputs": [
        {
          "output_type": "execute_result",
          "data": {
            "text/plain": [
              "<matplotlib.axes._subplots.AxesSubplot at 0x7f471d05c0f0>"
            ]
          },
          "metadata": {
            "tags": []
          },
          "execution_count": 14
        },
        {
          "output_type": "display_data",
          "data": {
            "image/png": "[encoded data removed]",
            "text/plain": [
              "<Figure size 720x720 with 2 Axes>"
            ]
          },
          "metadata": {
            "tags": []
          }
        }
      ]
    },
    {
      "cell_type": "code",
      "metadata": {
        "id": "H13eWUYpM-Jz",
        "colab_type": "code",
        "colab": {}
      },
      "source": [
        "Converted_training_data"
      ],
      "execution_count": 0,
      "outputs": []
    },
    {
      "cell_type": "code",
      "metadata": {
        "id": "j8tT72ocDSAZ",
        "colab_type": "code",
        "outputId": "87d72fc4-3017-4c64-e4a8-075ad34b3a96",
        "colab": {
          "base_uri": "https://localhost:8080/",
          "height": 1000
        }
      },
      "source": [
        "sns.lmplot(x='Likes',y='Views',data=Converted_training_data)\n",
        "sns.lmplot(x='Popularity',y='Views',data=Converted_training_data)\n",
        "sns.lmplot(x='Comments',y='Views',data=Converted_training_data)"
      ],
      "execution_count": 0,
      "outputs": [
        {
          "output_type": "execute_result",
          "data": {
            "text/plain": [
              "<seaborn.axisgrid.FacetGrid at 0x7f47140d5da0>"
            ]
          },
          "metadata": {
            "tags": []
          },
          "execution_count": 20
        },
        {
          "output_type": "display_data",
          "data": {
            "image/png": "[encoded data removed]",
            "text/plain": [
              "<Figure size 360x360 with 1 Axes>"
            ]
          },
          "metadata": {
            "tags": []
          }
        },
        {
          "output_type": "display_data",
          "data": {
            "image/png": "[encoded data removed]",
            "text/plain": [
              "<Figure size 360x360 with 1 Axes>"
            ]
          },
          "metadata": {
            "tags": []
          }
        },
        {
          "output_type": "display_data",
          "data": {
            "image/png": "[encoded data removed]",
            "text/plain": [
              "<Figure size 360x360 with 1 Axes>"
            ]
          },
          "metadata": {
            "tags": []
          }
        }
      ]
    },
    {
      "cell_type": "code",
      "metadata": {
        "id": "-g_u8U4UOFLA",
        "colab_type": "code",
        "colab": {}
      },
      "source": [
        "Train_views = Converted_training_data['Views']\n",
        "Converted_training_data.drop(['Views'],inplace=True,axis=1)"
      ],
      "execution_count": 0,
      "outputs": []
    },
    {
      "cell_type": "code",
      "metadata": {
        "id": "KWfGX2BUOuuf",
        "colab_type": "code",
        "colab": {}
      },
      "source": [
        "Converted_training_data.drop(['Unique_ID'],inplace=True,axis=1)"
      ],
      "execution_count": 0,
      "outputs": []
    },
    {
      "cell_type": "code",
      "metadata": {
        "id": "LF8E1scgV19i",
        "colab_type": "code",
        "colab": {}
      },
      "source": [
        "X_train,X_val,y_train,y_val = train_test_split(Converted_training_data,Train_views,test_size=0.2,random_state=42)"
      ],
      "execution_count": 0,
      "outputs": []
    },
    {
      "cell_type": "code",
      "metadata": {
        "id": "5WnAPytFVay2",
        "colab_type": "code",
        "colab": {}
      },
      "source": [
        "imp_features = ['Likes','Popularity','Comments']\n",
        "final_train_set = X_train[list(imp_features)]"
      ],
      "execution_count": 0,
      "outputs": []
    },
    {
      "cell_type": "code",
      "metadata": {
        "colab_type": "code",
        "id": "3kTmv1zlSDHf",
        "colab": {}
      },
      "source": [
        "def rmse(model):\n",
        "  rmse = np.sqrt(-cross_val_score(model,final_train_set,y_train,scoring=\"neg_mean_squared_error\",cv=3))\n",
        "  return(rmse)"
      ],
      "execution_count": 0,
      "outputs": []
    },
    {
      "cell_type": "code",
      "metadata": {
        "id": "LYiEA1ISRGXk",
        "colab_type": "code",
        "outputId": "73f81bf5-efa8-4451-818f-dfaae94bbeec",
        "colab": {
          "base_uri": "https://localhost:8080/",
          "height": 90
        }
      },
      "source": [
        "ensemble_models = [AdaBoostRegressor(),GradientBoostingRegressor(),BaggingRegressor(),DecisionTreeRegressor()]\n",
        "model_names = [\"AdaBoost Regressor\",\"Gradient Boosting Regressor\",\"Bagging Regressor\",\"Decision Tree Regressor\"]\n",
        "estimators = [150,200,400,700,800]\n",
        "for name,model in zip(model_names,ensemble_models):\n",
        "  model.fit(final_train_set,y_train)\n",
        "  pred_views = model.predict(X_val[list(imp_features)])\n",
        "  print(\"R^2 Score for\",name,\"is : \",r2_score(y_val,pred_views))"
      ],
      "execution_count": 0,
      "outputs": [
        {
          "output_type": "stream",
          "text": [
            "R^2 Score for AdaBoost Regressor is :  0.9404373579833728\n",
            "R^2 Score for Gradient Boosting Regressor is :  0.9747431099140568\n",
            "R^2 Score for Bagging Regressor is :  0.9726554114047895\n",
            "R^2 Score for Decision Tree Regressor is :  0.9565301614964002\n"
          ],
          "name": "stdout"
        }
      ]
    },
    {
      "cell_type": "code",
      "metadata": {
        "id": "5_XTnEcfXMRC",
        "colab_type": "code",
        "outputId": "9fc42d9a-43b6-4cb9-f4fb-02fcb885cc50",
        "colab": {
          "base_uri": "https://localhost:8080/",
          "height": 90
        }
      },
      "source": [
        "dt = DecisionTreeRegressor()\n",
        "dt.fit(final_train_set,y_train)\n",
        "pred = dt.predict(X_val[list(imp_features)])\n",
        "pred[:15]"
      ],
      "execution_count": 0,
      "outputs": [
        {
          "output_type": "execute_result",
          "data": {
            "text/plain": [
              "array([ 14652.        ,  27042.        ,   3532.        ,   5554.25      ,\n",
              "       199765.        ,   4714.        ,  31863.        ,  22506.        ,\n",
              "         2390.        , 120838.        ,   2348.38461538, 359020.        ,\n",
              "        38100.        ,   7949.        ,   1937.8       ])"
            ]
          },
          "metadata": {
            "tags": []
          },
          "execution_count": 57
        }
      ]
    },
    {
      "cell_type": "code",
      "metadata": {
        "id": "GpdZQm0SYHcZ",
        "colab_type": "code",
        "outputId": "52a6dfee-40e0-4651-85a1-40db1a73f6a3",
        "colab": {
          "base_uri": "https://localhost:8080/",
          "height": 90
        }
      },
      "source": [
        "br = BaggingRegressor()\n",
        "br.fit(final_train_set,y_train)\n",
        "pred = br.predict(X_val[list(imp_features)])\n",
        "pred[:15]"
      ],
      "execution_count": 0,
      "outputs": [
        {
          "output_type": "execute_result",
          "data": {
            "text/plain": [
              "array([ 14249.55      ,  24355.2       ,   5976.5       ,   5580.5547619 ,\n",
              "       259466.4       ,   4575.9       ,  13305.5       ,  17730.3       ,\n",
              "         5580.3       , 101586.1       ,   2371.96911589, 236994.8       ,\n",
              "        45433.5       ,   7696.8       ,   1774.86166667])"
            ]
          },
          "metadata": {
            "tags": []
          },
          "execution_count": 58
        }
      ]
    },
    {
      "cell_type": "code",
      "metadata": {
        "id": "g2XyK4F6bOSz",
        "colab_type": "code",
        "outputId": "e0a3a50e-7ba1-4f46-885e-b488d2f5579c",
        "colab": {
          "base_uri": "https://localhost:8080/",
          "height": 90
        }
      },
      "source": [
        "gb = GradientBoostingRegressor()\n",
        "gb.fit(final_train_set,y_train)\n",
        "pred = gb.predict(X_val[list(imp_features)])\n",
        "pred[:15]"
      ],
      "execution_count": 0,
      "outputs": [
        {
          "output_type": "execute_result",
          "data": {
            "text/plain": [
              "array([ 22783.35151152,  40354.78182939,  21989.33561236,  18835.5497149 ,\n",
              "       166523.52606583,  21989.33561236,  18835.5497149 ,  24316.88296142,\n",
              "        20072.11258716, 104848.50410411,  18835.5497149 , 290311.83699627,\n",
              "        89194.81696282,  20979.64786938,  18835.5497149 ])"
            ]
          },
          "metadata": {
            "tags": []
          },
          "execution_count": 59
        }
      ]
    },
    {
      "cell_type": "code",
      "metadata": {
        "id": "xO-ZzlTMKSSZ",
        "colab_type": "code",
        "outputId": "471e8a72-f982-4fa4-f71f-459f34b400f9",
        "colab": {
          "base_uri": "https://localhost:8080/",
          "height": 315
        }
      },
      "source": [
        "cv_score = [rmse(RandomForestRegressor(n_estimators = estimator)).mean() for estimator in estimators]\n",
        "cv_gb = pd.Series(cv_score , index = estimators)\n",
        "cv_gb.plot(title = \"Validation Random Forest Regressor\")\n",
        "plt.xlabel(\"n_estimator\")\n",
        "plt.ylabel(\"rmse\")"
      ],
      "execution_count": 0,
      "outputs": [
        {
          "output_type": "execute_result",
          "data": {
            "text/plain": [
              "Text(0, 0.5, 'rmse')"
            ]
          },
          "metadata": {
            "tags": []
          },
          "execution_count": 61
        },
        {
          "output_type": "display_data",
          "data": {
            "image/png": "[encoded data removed]",
            "text/plain": [
              "<Figure size 432x288 with 1 Axes>"
            ]
          },
          "metadata": {
            "tags": []
          }
        }
      ]
    },
    {
      "cell_type": "code",
      "metadata": {
        "id": "dJXl9JWAYG8v",
        "colab_type": "code",
        "outputId": "4b5ba4fc-839e-48db-8cde-3f8d5d8b3c57",
        "colab": {
          "base_uri": "https://localhost:8080/",
          "height": 145
        }
      },
      "source": [
        "rf_model = RandomForestRegressor(n_estimators=200)\n",
        "rf_model.fit(final_train_set,y_train)"
      ],
      "execution_count": 0,
      "outputs": [
        {
          "output_type": "execute_result",
          "data": {
            "text/plain": [
              "RandomForestRegressor(bootstrap=True, ccp_alpha=0.0, criterion='mse',\n",
              "                      max_depth=None, max_features='auto', max_leaf_nodes=None,\n",
              "                      max_samples=None, min_impurity_decrease=0.0,\n",
              "                      min_impurity_split=None, min_samples_leaf=1,\n",
              "                      min_samples_split=2, min_weight_fraction_leaf=0.0,\n",
              "                      n_estimators=200, n_jobs=None, oob_score=False,\n",
              "                      random_state=None, verbose=0, warm_start=False)"
            ]
          },
          "metadata": {
            "tags": []
          },
          "execution_count": 63
        }
      ]
    },
    {
      "cell_type": "code",
      "metadata": {
        "id": "7jZHbrjAWNTx",
        "colab_type": "code",
        "colab": {}
      },
      "source": [
        "predictions = rf_model.predict(X_val[list(imp_features)])\n"
      ],
      "execution_count": 0,
      "outputs": []
    },
    {
      "cell_type": "code",
      "metadata": {
        "id": "_W9zyUORTZaT",
        "colab_type": "code",
        "outputId": "956c8d00-677e-4065-8946-9e9510009daf",
        "colab": {
          "base_uri": "https://localhost:8080/",
          "height": 35
        }
      },
      "source": [
        "print(\"Score on validation set using RandomForest : \",r2_score(y_val,predictions))"
      ],
      "execution_count": 0,
      "outputs": [
        {
          "output_type": "stream",
          "text": [
            "Score on validation set using RandomForest :  0.9731100727910601\n"
          ],
          "name": "stdout"
        }
      ]
    },
    {
      "cell_type": "code",
      "metadata": {
        "id": "duDeEJuaXHeh",
        "colab_type": "code",
        "outputId": "dfa71432-daa4-4eff-9e49-f358950f7319",
        "colab": {
          "base_uri": "https://localhost:8080/",
          "height": 90
        }
      },
      "source": [
        "predictions[:15]"
      ],
      "execution_count": 0,
      "outputs": [
        {
          "output_type": "execute_result",
          "data": {
            "text/plain": [
              "array([ 13775.11575   ,  26702.66      ,   5291.92      ,   5676.83451227,\n",
              "       261672.44      ,  15214.005     ,  16274.4675    ,  19528.81041667,\n",
              "         5005.12547619, 110424.365     ,   2403.59490874, 256671.71      ,\n",
              "        64132.66      ,   7641.4675119 ,   1890.77592262])"
            ]
          },
          "metadata": {
            "tags": []
          },
          "execution_count": 67
        }
      ]
    },
    {
      "cell_type": "code",
      "metadata": {
        "id": "RF_-HQh0eO7v",
        "colab_type": "code",
        "outputId": "26a702d9-3bfe-4178-a899-f8a3e31d730d",
        "colab": {
          "base_uri": "https://localhost:8080/",
          "height": 217
        }
      },
      "source": [
        "Test_data = pd.read_csv('Data_Test.csv')\n",
        "Test_data.isnull().any()"
      ],
      "execution_count": 0,
      "outputs": [
        {
          "output_type": "execute_result",
          "data": {
            "text/plain": [
              "Unique_ID     False\n",
              "Name          False\n",
              "Genre         False\n",
              "Country       False\n",
              "Song_Name     False\n",
              "Timestamp     False\n",
              "Comments      False\n",
              "Likes         False\n",
              "Popularity    False\n",
              "Followers     False\n",
              "dtype: bool"
            ]
          },
          "metadata": {
            "tags": []
          },
          "execution_count": 68
        }
      ]
    },
    {
      "cell_type": "code",
      "metadata": {
        "id": "TvKTotPgZVlD",
        "colab_type": "code",
        "outputId": "96d917c2-9710-4a86-cd8d-5811c95c03fc",
        "colab": {
          "base_uri": "https://localhost:8080/",
          "height": 842
        }
      },
      "source": [
        "Test_data"
      ],
      "execution_count": 0,
      "outputs": [
        {
          "output_type": "execute_result",
          "data": {
            "text/html": [
              "<div>\n",
              "<style scoped>\n",
              "    .dataframe tbody tr th:only-of-type {\n",
              "        vertical-align: middle;\n",
              "    }\n",
              "\n",
              "    .dataframe tbody tr th {\n",
              "        vertical-align: top;\n",
              "    }\n",
              "\n",
              "    .dataframe thead th {\n",
              "        text-align: right;\n",
              "    }\n",
              "</style>\n",
              "<table border=\"1\" class=\"dataframe\">\n",
              "  <thead>\n",
              "    <tr style=\"text-align: right;\">\n",
              "      <th></th>\n",
              "      <th>Unique_ID</th>\n",
              "      <th>Name</th>\n",
              "      <th>Genre</th>\n",
              "      <th>Country</th>\n",
              "      <th>Song_Name</th>\n",
              "      <th>Timestamp</th>\n",
              "      <th>Comments</th>\n",
              "      <th>Likes</th>\n",
              "      <th>Popularity</th>\n",
              "      <th>Followers</th>\n",
              "    </tr>\n",
              "  </thead>\n",
              "  <tbody>\n",
              "    <tr>\n",
              "      <th>0</th>\n",
              "      <td>562546</td>\n",
              "      <td>L2Share♫79</td>\n",
              "      <td>all-music</td>\n",
              "      <td>AU</td>\n",
              "      <td>엔플라잉 N.Flying - Rooftop (옥탑방)</td>\n",
              "      <td>2019-01-02 09:49:19.000000</td>\n",
              "      <td>26</td>\n",
              "      <td>5,428</td>\n",
              "      <td>118</td>\n",
              "      <td>2568</td>\n",
              "    </tr>\n",
              "    <tr>\n",
              "      <th>1</th>\n",
              "      <td>907584</td>\n",
              "      <td>Morgan Page</td>\n",
              "      <td>danceedm</td>\n",
              "      <td>AU</td>\n",
              "      <td>Morgan Page - In The Air - Episode 246</td>\n",
              "      <td>2015-03-09 17:30:10.000000</td>\n",
              "      <td>18</td>\n",
              "      <td>738</td>\n",
              "      <td>195</td>\n",
              "      <td>155645</td>\n",
              "    </tr>\n",
              "    <tr>\n",
              "      <th>2</th>\n",
              "      <td>213013</td>\n",
              "      <td>Dirty Workz</td>\n",
              "      <td>danceedm</td>\n",
              "      <td>AU</td>\n",
              "      <td>Outlander - Devotion (Official HQ Preview)</td>\n",
              "      <td>2013-09-18 16:09:03.000000</td>\n",
              "      <td>18</td>\n",
              "      <td>386</td>\n",
              "      <td>96</td>\n",
              "      <td>29446</td>\n",
              "    </tr>\n",
              "    <tr>\n",
              "      <th>3</th>\n",
              "      <td>340312</td>\n",
              "      <td>Gucci Mane</td>\n",
              "      <td>all-music</td>\n",
              "      <td>AU</td>\n",
              "      <td>Freaky Gurl</td>\n",
              "      <td>2007-08-14 00:00:00.000000</td>\n",
              "      <td>1</td>\n",
              "      <td>388</td>\n",
              "      <td>19</td>\n",
              "      <td>799410</td>\n",
              "    </tr>\n",
              "    <tr>\n",
              "      <th>4</th>\n",
              "      <td>41854</td>\n",
              "      <td>Angga Kecap</td>\n",
              "      <td>rock</td>\n",
              "      <td>AU</td>\n",
              "      <td>Radical Nusantara - Teman</td>\n",
              "      <td>2018-08-10 16:28:54.000000</td>\n",
              "      <td>0</td>\n",
              "      <td>79</td>\n",
              "      <td>1</td>\n",
              "      <td>2</td>\n",
              "    </tr>\n",
              "    <tr>\n",
              "      <th>...</th>\n",
              "      <td>...</td>\n",
              "      <td>...</td>\n",
              "      <td>...</td>\n",
              "      <td>...</td>\n",
              "      <td>...</td>\n",
              "      <td>...</td>\n",
              "      <td>...</td>\n",
              "      <td>...</td>\n",
              "      <td>...</td>\n",
              "      <td>...</td>\n",
              "    </tr>\n",
              "    <tr>\n",
              "      <th>19610</th>\n",
              "      <td>183403</td>\n",
              "      <td>Deep Sounds</td>\n",
              "      <td>danceedm</td>\n",
              "      <td>AU</td>\n",
              "      <td>Jordan Burns - Your Mind</td>\n",
              "      <td>2017-08-29 20:39:57.000000</td>\n",
              "      <td>17</td>\n",
              "      <td>1,775</td>\n",
              "      <td>341</td>\n",
              "      <td>357007</td>\n",
              "    </tr>\n",
              "    <tr>\n",
              "      <th>19611</th>\n",
              "      <td>1272578</td>\n",
              "      <td>Sjammienators</td>\n",
              "      <td>danceedm</td>\n",
              "      <td>AU</td>\n",
              "      <td>Sjammienators &amp; System Overload &amp; MC Komplex -...</td>\n",
              "      <td>2016-01-22 13:51:52.000000</td>\n",
              "      <td>12</td>\n",
              "      <td>2,095</td>\n",
              "      <td>305</td>\n",
              "      <td>17356</td>\n",
              "    </tr>\n",
              "    <tr>\n",
              "      <th>19612</th>\n",
              "      <td>539454</td>\n",
              "      <td>Kompakt</td>\n",
              "      <td>electronic</td>\n",
              "      <td>AU</td>\n",
              "      <td>Vermont - Paradigma (Wassermann Krautramatrik ...</td>\n",
              "      <td>2017-10-27 04:51:20.000000</td>\n",
              "      <td>5</td>\n",
              "      <td>39</td>\n",
              "      <td>12</td>\n",
              "      <td>165268</td>\n",
              "    </tr>\n",
              "    <tr>\n",
              "      <th>19613</th>\n",
              "      <td>1543013</td>\n",
              "      <td>Yheti</td>\n",
              "      <td>electronic</td>\n",
              "      <td>AU</td>\n",
              "      <td>Yheti &amp; Metapod - Ominous Combo</td>\n",
              "      <td>2017-08-30 16:35:20.000000</td>\n",
              "      <td>113</td>\n",
              "      <td>3,754</td>\n",
              "      <td>666</td>\n",
              "      <td>52573</td>\n",
              "    </tr>\n",
              "    <tr>\n",
              "      <th>19614</th>\n",
              "      <td>415046</td>\n",
              "      <td>Hardstyle</td>\n",
              "      <td>danceedm</td>\n",
              "      <td>AU</td>\n",
              "      <td>Devin Wild - Everlasting</td>\n",
              "      <td>2015-07-30 16:27:55.000000</td>\n",
              "      <td>10</td>\n",
              "      <td>627</td>\n",
              "      <td>141</td>\n",
              "      <td>119563</td>\n",
              "    </tr>\n",
              "  </tbody>\n",
              "</table>\n",
              "<p>19615 rows × 10 columns</p>\n",
              "</div>"
            ],
            "text/plain": [
              "       Unique_ID           Name       Genre  ...  Likes Popularity Followers\n",
              "0         562546     L2Share♫79   all-music  ...  5,428        118      2568\n",
              "1         907584    Morgan Page    danceedm  ...    738        195    155645\n",
              "2         213013    Dirty Workz    danceedm  ...    386         96     29446\n",
              "3         340312     Gucci Mane   all-music  ...    388         19    799410\n",
              "4          41854    Angga Kecap        rock  ...     79          1         2\n",
              "...          ...            ...         ...  ...    ...        ...       ...\n",
              "19610     183403    Deep Sounds    danceedm  ...  1,775        341    357007\n",
              "19611    1272578  Sjammienators    danceedm  ...  2,095        305     17356\n",
              "19612     539454        Kompakt  electronic  ...     39         12    165268\n",
              "19613    1543013          Yheti  electronic  ...  3,754        666     52573\n",
              "19614     415046      Hardstyle    danceedm  ...    627        141    119563\n",
              "\n",
              "[19615 rows x 10 columns]"
            ]
          },
          "metadata": {
            "tags": []
          },
          "execution_count": 69
        }
      ]
    },
    {
      "cell_type": "code",
      "metadata": {
        "id": "BIoemusjaB_c",
        "colab_type": "code",
        "colab": {}
      },
      "source": [
        "def ChangeCatToNumTest(data):\n",
        "  cat_features = ['Name','Genre']\n",
        "  data.reset_index(drop=True)\n",
        "  data[cat_features] = data[cat_features].apply(le.fit_transform)\n",
        "  currDate = datetime.datetime.now()\n",
        "  datetimeFormat = '%Y-%m-%d %H:%M:%S.%f'\n",
        "  data = data.assign(DaysAfterRelease=np.nan)\n",
        "  for i in range(len(data)):\n",
        "    diff= (datetime.datetime.strptime(str(currDate),datetimeFormat)-datetime.datetime.strptime(str(data.iloc[i,5]),datetimeFormat))\n",
        "    data.iloc[i,10] = int(diff.days)\n",
        "  data[\"Popularity\"] = data[\"Popularity\"].str.replace(\",\",\"\")\n",
        "  data['Popularity']=data['Popularity'].replace({'K': '*1e3', 'M': '*1e6'}, regex=True).map(pd.eval).astype(int)\n",
        "  data[\"Likes\"] = data[\"Likes\"].str.replace(\",\",\"\")\n",
        "  data['Likes']=data['Likes'].replace({'K': '*1e3', 'M': '*1e6'}, regex=True).map(pd.eval).astype(int)\n",
        "  data.drop(['Country','Song_Name','Timestamp'],axis=1,inplace=True)\n",
        "  return data"
      ],
      "execution_count": 0,
      "outputs": []
    },
    {
      "cell_type": "code",
      "metadata": {
        "id": "k2Ge2SJcYqoU",
        "colab_type": "code",
        "colab": {}
      },
      "source": [
        "Converted_test_set = ChangeCatToNumTest(Test_data)"
      ],
      "execution_count": 0,
      "outputs": []
    },
    {
      "cell_type": "code",
      "metadata": {
        "id": "jWBp1Q9raaKE",
        "colab_type": "code",
        "outputId": "af208c4f-a2d2-4744-d2f0-213c2ed4de7a",
        "colab": {
          "base_uri": "https://localhost:8080/",
          "height": 407
        }
      },
      "source": [
        "Converted_test_set"
      ],
      "execution_count": 0,
      "outputs": [
        {
          "output_type": "execute_result",
          "data": {
            "text/html": [
              "<div>\n",
              "<style scoped>\n",
              "    .dataframe tbody tr th:only-of-type {\n",
              "        vertical-align: middle;\n",
              "    }\n",
              "\n",
              "    .dataframe tbody tr th {\n",
              "        vertical-align: top;\n",
              "    }\n",
              "\n",
              "    .dataframe thead th {\n",
              "        text-align: right;\n",
              "    }\n",
              "</style>\n",
              "<table border=\"1\" class=\"dataframe\">\n",
              "  <thead>\n",
              "    <tr style=\"text-align: right;\">\n",
              "      <th></th>\n",
              "      <th>Unique_ID</th>\n",
              "      <th>Name</th>\n",
              "      <th>Genre</th>\n",
              "      <th>Comments</th>\n",
              "      <th>Likes</th>\n",
              "      <th>Popularity</th>\n",
              "      <th>Followers</th>\n",
              "      <th>DaysAfterRelease</th>\n",
              "    </tr>\n",
              "  </thead>\n",
              "  <tbody>\n",
              "    <tr>\n",
              "      <th>0</th>\n",
              "      <td>562546</td>\n",
              "      <td>487</td>\n",
              "      <td>0</td>\n",
              "      <td>26</td>\n",
              "      <td>5428</td>\n",
              "      <td>118</td>\n",
              "      <td>2568</td>\n",
              "      <td>391.0</td>\n",
              "    </tr>\n",
              "    <tr>\n",
              "      <th>1</th>\n",
              "      <td>907584</td>\n",
              "      <td>604</td>\n",
              "      <td>5</td>\n",
              "      <td>18</td>\n",
              "      <td>738</td>\n",
              "      <td>195</td>\n",
              "      <td>155645</td>\n",
              "      <td>1786.0</td>\n",
              "    </tr>\n",
              "    <tr>\n",
              "      <th>2</th>\n",
              "      <td>213013</td>\n",
              "      <td>235</td>\n",
              "      <td>5</td>\n",
              "      <td>18</td>\n",
              "      <td>386</td>\n",
              "      <td>96</td>\n",
              "      <td>29446</td>\n",
              "      <td>2323.0</td>\n",
              "    </tr>\n",
              "    <tr>\n",
              "      <th>3</th>\n",
              "      <td>340312</td>\n",
              "      <td>350</td>\n",
              "      <td>0</td>\n",
              "      <td>1</td>\n",
              "      <td>388</td>\n",
              "      <td>19</td>\n",
              "      <td>799410</td>\n",
              "      <td>4550.0</td>\n",
              "    </tr>\n",
              "    <tr>\n",
              "      <th>4</th>\n",
              "      <td>41854</td>\n",
              "      <td>53</td>\n",
              "      <td>19</td>\n",
              "      <td>0</td>\n",
              "      <td>79</td>\n",
              "      <td>1</td>\n",
              "      <td>2</td>\n",
              "      <td>536.0</td>\n",
              "    </tr>\n",
              "    <tr>\n",
              "      <th>...</th>\n",
              "      <td>...</td>\n",
              "      <td>...</td>\n",
              "      <td>...</td>\n",
              "      <td>...</td>\n",
              "      <td>...</td>\n",
              "      <td>...</td>\n",
              "      <td>...</td>\n",
              "      <td>...</td>\n",
              "    </tr>\n",
              "    <tr>\n",
              "      <th>19610</th>\n",
              "      <td>183403</td>\n",
              "      <td>225</td>\n",
              "      <td>5</td>\n",
              "      <td>17</td>\n",
              "      <td>1775</td>\n",
              "      <td>341</td>\n",
              "      <td>357007</td>\n",
              "      <td>881.0</td>\n",
              "    </tr>\n",
              "    <tr>\n",
              "      <th>19611</th>\n",
              "      <td>1272578</td>\n",
              "      <td>794</td>\n",
              "      <td>5</td>\n",
              "      <td>12</td>\n",
              "      <td>2095</td>\n",
              "      <td>305</td>\n",
              "      <td>17356</td>\n",
              "      <td>1467.0</td>\n",
              "    </tr>\n",
              "    <tr>\n",
              "      <th>19612</th>\n",
              "      <td>539454</td>\n",
              "      <td>467</td>\n",
              "      <td>10</td>\n",
              "      <td>5</td>\n",
              "      <td>39</td>\n",
              "      <td>12</td>\n",
              "      <td>165268</td>\n",
              "      <td>823.0</td>\n",
              "    </tr>\n",
              "    <tr>\n",
              "      <th>19613</th>\n",
              "      <td>1543013</td>\n",
              "      <td>966</td>\n",
              "      <td>10</td>\n",
              "      <td>113</td>\n",
              "      <td>3754</td>\n",
              "      <td>666</td>\n",
              "      <td>52573</td>\n",
              "      <td>881.0</td>\n",
              "    </tr>\n",
              "    <tr>\n",
              "      <th>19614</th>\n",
              "      <td>415046</td>\n",
              "      <td>366</td>\n",
              "      <td>5</td>\n",
              "      <td>10</td>\n",
              "      <td>627</td>\n",
              "      <td>141</td>\n",
              "      <td>119563</td>\n",
              "      <td>1643.0</td>\n",
              "    </tr>\n",
              "  </tbody>\n",
              "</table>\n",
              "<p>19615 rows × 8 columns</p>\n",
              "</div>"
            ],
            "text/plain": [
              "       Unique_ID  Name  Genre  ...  Popularity  Followers  DaysAfterRelease\n",
              "0         562546   487      0  ...         118       2568             391.0\n",
              "1         907584   604      5  ...         195     155645            1786.0\n",
              "2         213013   235      5  ...          96      29446            2323.0\n",
              "3         340312   350      0  ...          19     799410            4550.0\n",
              "4          41854    53     19  ...           1          2             536.0\n",
              "...          ...   ...    ...  ...         ...        ...               ...\n",
              "19610     183403   225      5  ...         341     357007             881.0\n",
              "19611    1272578   794      5  ...         305      17356            1467.0\n",
              "19612     539454   467     10  ...          12     165268             823.0\n",
              "19613    1543013   966     10  ...         666      52573             881.0\n",
              "19614     415046   366      5  ...         141     119563            1643.0\n",
              "\n",
              "[19615 rows x 8 columns]"
            ]
          },
          "metadata": {
            "tags": []
          },
          "execution_count": 72
        }
      ]
    },
    {
      "cell_type": "code",
      "metadata": {
        "id": "rXy5cJbDapUm",
        "colab_type": "code",
        "outputId": "346bee61-64f4-42b9-d7e9-b00cdcff8d64",
        "colab": {
          "base_uri": "https://localhost:8080/",
          "height": 407
        }
      },
      "source": [
        "final_test_set = Converted_test_set[list(imp_features)]\n",
        "final_test_set"
      ],
      "execution_count": 0,
      "outputs": [
        {
          "output_type": "execute_result",
          "data": {
            "text/html": [
              "<div>\n",
              "<style scoped>\n",
              "    .dataframe tbody tr th:only-of-type {\n",
              "        vertical-align: middle;\n",
              "    }\n",
              "\n",
              "    .dataframe tbody tr th {\n",
              "        vertical-align: top;\n",
              "    }\n",
              "\n",
              "    .dataframe thead th {\n",
              "        text-align: right;\n",
              "    }\n",
              "</style>\n",
              "<table border=\"1\" class=\"dataframe\">\n",
              "  <thead>\n",
              "    <tr style=\"text-align: right;\">\n",
              "      <th></th>\n",
              "      <th>Likes</th>\n",
              "      <th>Popularity</th>\n",
              "      <th>Comments</th>\n",
              "    </tr>\n",
              "  </thead>\n",
              "  <tbody>\n",
              "    <tr>\n",
              "      <th>0</th>\n",
              "      <td>5428</td>\n",
              "      <td>118</td>\n",
              "      <td>26</td>\n",
              "    </tr>\n",
              "    <tr>\n",
              "      <th>1</th>\n",
              "      <td>738</td>\n",
              "      <td>195</td>\n",
              "      <td>18</td>\n",
              "    </tr>\n",
              "    <tr>\n",
              "      <th>2</th>\n",
              "      <td>386</td>\n",
              "      <td>96</td>\n",
              "      <td>18</td>\n",
              "    </tr>\n",
              "    <tr>\n",
              "      <th>3</th>\n",
              "      <td>388</td>\n",
              "      <td>19</td>\n",
              "      <td>1</td>\n",
              "    </tr>\n",
              "    <tr>\n",
              "      <th>4</th>\n",
              "      <td>79</td>\n",
              "      <td>1</td>\n",
              "      <td>0</td>\n",
              "    </tr>\n",
              "    <tr>\n",
              "      <th>...</th>\n",
              "      <td>...</td>\n",
              "      <td>...</td>\n",
              "      <td>...</td>\n",
              "    </tr>\n",
              "    <tr>\n",
              "      <th>19610</th>\n",
              "      <td>1775</td>\n",
              "      <td>341</td>\n",
              "      <td>17</td>\n",
              "    </tr>\n",
              "    <tr>\n",
              "      <th>19611</th>\n",
              "      <td>2095</td>\n",
              "      <td>305</td>\n",
              "      <td>12</td>\n",
              "    </tr>\n",
              "    <tr>\n",
              "      <th>19612</th>\n",
              "      <td>39</td>\n",
              "      <td>12</td>\n",
              "      <td>5</td>\n",
              "    </tr>\n",
              "    <tr>\n",
              "      <th>19613</th>\n",
              "      <td>3754</td>\n",
              "      <td>666</td>\n",
              "      <td>113</td>\n",
              "    </tr>\n",
              "    <tr>\n",
              "      <th>19614</th>\n",
              "      <td>627</td>\n",
              "      <td>141</td>\n",
              "      <td>10</td>\n",
              "    </tr>\n",
              "  </tbody>\n",
              "</table>\n",
              "<p>19615 rows × 3 columns</p>\n",
              "</div>"
            ],
            "text/plain": [
              "       Likes  Popularity  Comments\n",
              "0       5428         118        26\n",
              "1        738         195        18\n",
              "2        386          96        18\n",
              "3        388          19         1\n",
              "4         79           1         0\n",
              "...      ...         ...       ...\n",
              "19610   1775         341        17\n",
              "19611   2095         305        12\n",
              "19612     39          12         5\n",
              "19613   3754         666       113\n",
              "19614    627         141        10\n",
              "\n",
              "[19615 rows x 3 columns]"
            ]
          },
          "metadata": {
            "tags": []
          },
          "execution_count": 74
        }
      ]
    },
    {
      "cell_type": "code",
      "metadata": {
        "id": "iVMJhnk2bFXn",
        "colab_type": "code",
        "outputId": "968022e9-70dc-48d4-abc0-49a5ea431d05",
        "colab": {
          "base_uri": "https://localhost:8080/",
          "height": 90
        }
      },
      "source": [
        "pred_test = gb.predict(final_test_set)\n",
        "pred_test[:15]"
      ],
      "execution_count": 0,
      "outputs": [
        {
          "output_type": "execute_result",
          "data": {
            "text/plain": [
              "array([261328.22988081,  35500.64528815,  25363.63512268,  26417.32834926,\n",
              "        20072.11258716,  24316.88296142,  18835.5497149 ,  24316.88296142,\n",
              "        18835.5497149 ,  40354.78182939,  20072.11258716,  44999.86696085,\n",
              "        18835.5497149 ,  20072.11258716,  24316.88296142])"
            ]
          },
          "metadata": {
            "tags": []
          },
          "execution_count": 75
        }
      ]
    },
    {
      "cell_type": "code",
      "metadata": {
        "id": "Hev10Un0rJ3m",
        "colab_type": "code",
        "colab": {}
      },
      "source": [
        "my_submission = pd.DataFrame({\"Unique_ID\":Converted_test_set.Unique_ID,\"Views\":pred_test})\n",
        "my_submission.to_excel(\"my_submission.xlsx\",index=False)"
      ],
      "execution_count": 0,
      "outputs": []
    }
  ]
}